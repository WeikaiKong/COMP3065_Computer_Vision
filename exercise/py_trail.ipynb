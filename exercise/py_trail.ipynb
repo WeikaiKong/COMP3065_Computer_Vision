{
 "cells": [
  {
   "cell_type": "code",
   "execution_count": 1,
   "metadata": {},
   "outputs": [
    {
     "name": "stdout",
     "output_type": "stream",
     "text": [
      "model is:  audi a4\n",
      "color is:  green\n",
      "model is:  ferrari 458\n",
      "color is:  red\n",
      "model for car01 is  audi a4\n",
      "model for car02 is  ferrari 458\n"
     ]
    }
   ],
   "source": [
    "#self: the instance of the class\n",
    "#?: instance attibuate in python, passed automatically, not recived automatially\n",
    "#self is always a pint to current object\n",
    "\n",
    "class car:\n",
    "    def __init__(self, model, color):\n",
    "        self.model = model\n",
    "        self.color = color\n",
    "    def show(self):\n",
    "        print(\"model is: \", self.model)\n",
    "        print(\"color is: \", self.color)\n",
    "\n",
    "car01 = car(\"audi a4\", \"green\")\n",
    "car02 = car(\"ferrari 458\", \"red\")\n",
    "\n",
    "car01.show()\n",
    "car02.show()\n",
    "\n",
    "print(\"model for car01 is \", car01.model)\n",
    "print(\"model for car02 is \", car02.model)\n",
    "\n"
   ]
  },
  {
   "cell_type": "code",
   "execution_count": 5,
   "metadata": {},
   "outputs": [
    {
     "data": {
      "text/plain": [
       "('Jeff', 'Jeff')"
      ]
     },
     "execution_count": 5,
     "metadata": {},
     "output_type": "execute_result"
    }
   ],
   "source": [
    "# Inheritance with super()\n",
    "# return a proxy obj which represents the parent's class\n",
    "# Using super() with __init__()\n",
    "# __init__(): as a constructor to initalize the attribuate of the class in the OOP\n",
    "# super(): return a tempory obj from the parent's class\n",
    "# why super()? 1)  reuse; 2)  don't need to mention the name of parent's class \n",
    "\n",
    "class Person:\n",
    "    #constructor\n",
    "    def __init__(self, name, id):\n",
    "        self.name  = name\n",
    "        self.id =  id\n",
    "    def display(self):\n",
    "        print(self.name,  self.id)\n",
    "\n",
    "class Emp(Person):\n",
    "    def __init__(self, name, id):\n",
    "        self.name_ =  name\n",
    "        #both have the constructors\n",
    "        super().__init__(name, id)\n",
    "\n",
    "    def Print(self):\n",
    "        print(\"the Employer is called\")\n",
    "\n",
    "person01 = Emp(\"Jeff\", \"002\")\n",
    "person01.name_,  person01.name"
   ]
  },
  {
   "cell_type": "code",
   "execution_count": 8,
   "metadata": {},
   "outputs": [
    {
     "name": "stdout",
     "output_type": "stream",
     "text": [
      "Return value:  <class 'enumerate'>\n",
      "[(0, 'eat'), (1, 'sleep'), (2, 'repeat')]\n",
      "[(2, 's'), (3, 'w'), (4, 'e'), (5, 'a'), (6, 't')]\n",
      "(0, 'eat')\n",
      "(1, 'sleep')\n",
      "(2, 'repeat')\n",
      "100 s\n",
      "101 w\n",
      "102 e\n",
      "103 a\n",
      "104 t\n"
     ]
    }
   ],
   "source": [
    "# enumerate(): a counter for iterable\n",
    "l1 = [\"eat\", \"sleep\", \"repeat\"]\n",
    "s1 = \"sweat\"\n",
    "\n",
    "obj1 = enumerate(l1)\n",
    "# start 2 not default 0\n",
    "obj2 = enumerate(s1,2)\n",
    "\n",
    "print(\"Return value: \", type(obj1))\n",
    "print(list(obj1))\n",
    "print(list(obj2))\n",
    "\n",
    "# using enumerate() in loop\n",
    "for i in enumerate(l1):\n",
    "    print(i)\n",
    "\n",
    "for count, i in enumerate(s1, 100):\n",
    "    print(count, i)\n"
   ]
  }
 ],
 "metadata": {
  "kernelspec": {
   "display_name": "ml",
   "language": "python",
   "name": "python3"
  },
  "language_info": {
   "codemirror_mode": {
    "name": "ipython",
    "version": 3
   },
   "file_extension": ".py",
   "mimetype": "text/x-python",
   "name": "python",
   "nbconvert_exporter": "python",
   "pygments_lexer": "ipython3",
   "version": "3.7.15"
  },
  "orig_nbformat": 4,
  "vscode": {
   "interpreter": {
    "hash": "31d7989649452b8ff5b252a3e34caf45e4ffd8a5787fe28fc2ce0245f11b7782"
   }
  }
 },
 "nbformat": 4,
 "nbformat_minor": 2
}
