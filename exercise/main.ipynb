{
 "cells": [
  {
   "cell_type": "code",
   "execution_count": 1,
   "metadata": {},
   "outputs": [],
   "source": [
    "# insert matplotlib in colab\n",
    "%matplotlib inline"
   ]
  },
  {
   "cell_type": "code",
   "execution_count": 2,
   "metadata": {},
   "outputs": [],
   "source": [
    "import torch\n",
    "from torch import  nn\n",
    "from torch.utils.data import  DataLoader\n",
    "# als many domian specific lib,like torchaudio, torchtext\n",
    "from torchvision import datasets\n",
    "# datasets: CIFAR, COCO, etc\n",
    "# also torchvision.datasets include 2 argument: transform, taget_transform to modify the samples\n",
    "from torchvision.transforms import ToTensor"
   ]
  },
  {
   "cell_type": "code",
   "execution_count": 3,
   "metadata": {},
   "outputs": [],
   "source": [
    "#Dowload training data from open datasets\n",
    "#!datasets.FashionMNIST?\n",
    "training_data = datasets.FashionMNIST(\n",
    "   root = \"data\",\n",
    "   train = True,\n",
    "   download = True,\n",
    "   transform = ToTensor()\n",
    ")\n",
    "\n",
    "test_data = datasets.FashionMNIST(\n",
    "   root = \"data\",\n",
    "   train = False,\n",
    "   download = True,\n",
    "   transform = ToTensor()\n",
    ")"
   ]
  },
  {
   "cell_type": "code",
   "execution_count": 4,
   "metadata": {},
   "outputs": [
    {
     "data": {
      "text/plain": [
       "' for X, y in test_dataloader:\\n    print(f\"Shape of X [N, C, H, W]: {X.shape}\")\\n    print(f\"Shape of y: {y.shape} {y.dtype}\")\\n    break '"
      ]
     },
     "execution_count": 4,
     "metadata": {},
     "output_type": "execute_result"
    }
   ],
   "source": [
    "#pass the data to Dataloader\n",
    "#Dataloader wraps an iterable over our dataset, and support automatic batching, sampling, shulffing and multiprocessing data loading\n",
    "#!DataLoader?\n",
    "#batch size is number of samples processed before model updated\n",
    "#small batch size, need more epoched to convergent, large may miss the local lowest point.\n",
    "batch_size = 64\n",
    "\n",
    "# Create data loaders.\n",
    "train_dataloader = DataLoader(dataset=training_data, batch_size=batch_size)\n",
    "test_dataloader = DataLoader(dataset=test_data, batch_size=batch_size)\n",
    "\n",
    "\"\"\" for X, y in test_dataloader:\n",
    "    print(f\"Shape of X [N, C, H, W]: {X.shape}\")\n",
    "    print(f\"Shape of y: {y.shape} {y.dtype}\")\n",
    "    break \"\"\""
   ]
  },
  {
   "cell_type": "code",
   "execution_count": 3,
   "metadata": {},
   "outputs": [
    {
     "name": "stdout",
     "output_type": "stream",
     "text": [
      "Using cpu device\n",
      "NeuralNetwork(\n",
      "  (flatten): Flatten(start_dim=1, end_dim=-1)\n",
      "  (linear_relu_stack): Sequential(\n",
      "    (0): Linear(in_features=784, out_features=512, bias=True)\n",
      "    (1): ReLU()\n",
      "    (2): Linear(in_features=512, out_features=512, bias=True)\n",
      "    (3): ReLU()\n",
      "    (4): Linear(in_features=512, out_features=10, bias=True)\n",
      "  )\n",
      ")\n"
     ]
    }
   ],
   "source": [
    "# Get cpu or gpu device for training.\n",
    "# mps: meta performance shaders for macos with Apple silicon\n",
    "device = \"cuda\" if torch.cuda.is_available() else \"mps\" if torch.backends.mps.is_available() else \"cpu\"\n",
    "print(f\"Using {device} device\")\n",
    "\n",
    "# Define model\n",
    "# Inherits from nn.Module\n",
    "# nn.Module: base class for all nn module, your model should also subclass this class, nest them in a tree structure\n",
    "class NeuralNetwork(nn.Module):\n",
    "    #define the layers in NN\n",
    "    def __init__(self):\n",
    "        #super() with __init__()\n",
    "        super().__init__()\n",
    "        self.flatten = nn.Flatten()\n",
    "        #logits\n",
    "        self.linear_relu_stack = nn.Sequential(\n",
    "            nn.Linear(28*28, 512),\n",
    "            nn.ReLU(),\n",
    "            nn.Linear(512, 512),\n",
    "            nn.ReLU(),\n",
    "            nn.Linear(512, 10)\n",
    "        )\n",
    "\n",
    "    #define how the data pass the model\n",
    "    def forward(self, x):\n",
    "        x = self.flatten(x)\n",
    "        logits = self.linear_relu_stack(x)\n",
    "        return logits\n",
    "\n",
    "model = NeuralNetwork().to(device)\n",
    "print(model)"
   ]
  },
  {
   "cell_type": "code",
   "execution_count": 6,
   "metadata": {},
   "outputs": [],
   "source": [
    "# loss function\n",
    "loss_fn = nn.CrossEntropyLoss()\n",
    "optimizer = torch.optim.SGD(params=model.parameters(),  lr=1e-3)"
   ]
  },
  {
   "cell_type": "code",
   "execution_count": 7,
   "metadata": {},
   "outputs": [],
   "source": [
    "def train(dataloader, model, loss_fn, optimizer):\n",
    "    size = len(dataloader.dataset)\n",
    "    model.train()\n",
    "    for batch, (X, y) in enumerate(dataloader):\n",
    "        X, y = X.to(device), y.to(device)\n",
    "\n",
    "        # Compute prediction error\n",
    "        pred = model(X)\n",
    "        loss = loss_fn(pred, y)\n",
    "\n",
    "        # Backpropagation\n",
    "        optimizer.zero_grad()\n",
    "        loss.backward()\n",
    "        optimizer.step()\n",
    "\n",
    "        if batch % 100 == 0:\n",
    "            loss, current = loss.item(), batch * len(X)\n",
    "            print(f\"loss: {loss:>7f}  [{current:>5d}/{size:>5d}]\")"
   ]
  },
  {
   "cell_type": "code",
   "execution_count": 8,
   "metadata": {},
   "outputs": [],
   "source": [
    "def test(dataloader, model, loss_fn):\n",
    "    size = len(dataloader.dataset)\n",
    "    num_batches = len(dataloader)\n",
    "    model.eval()\n",
    "    test_loss, correct = 0, 0\n",
    "    with torch.no_grad():\n",
    "        for X, y in dataloader:\n",
    "            X, y = X.to(device), y.to(device)\n",
    "            pred = model(X)\n",
    "            test_loss += loss_fn(pred, y).item()\n",
    "            correct += (pred.argmax(1) == y).type(torch.float).sum().item()\n",
    "    test_loss /= num_batches\n",
    "    correct /= size\n",
    "    print(f\"Test Error: \\n Accuracy: {(100*correct):>0.1f}%, Avg loss: {test_loss:>8f} \\n\")"
   ]
  },
  {
   "cell_type": "code",
   "execution_count": 9,
   "metadata": {},
   "outputs": [
    {
     "name": "stdout",
     "output_type": "stream",
     "text": [
      "Epoch 1\n",
      "-------------------------------\n",
      "loss: 2.291965  [    0/60000]\n",
      "loss: 2.282793  [ 6400/60000]\n",
      "loss: 2.272306  [12800/60000]\n",
      "loss: 2.270894  [19200/60000]\n",
      "loss: 2.237471  [25600/60000]\n",
      "loss: 2.218630  [32000/60000]\n",
      "loss: 2.224408  [38400/60000]\n",
      "loss: 2.191149  [44800/60000]\n",
      "loss: 2.181216  [51200/60000]\n",
      "loss: 2.155266  [57600/60000]\n",
      "Test Error: \n",
      " Accuracy: 43.2%, Avg loss: 2.150735 \n",
      "\n",
      "Epoch 2\n",
      "-------------------------------\n",
      "loss: 2.155892  [    0/60000]\n",
      "loss: 2.150447  [ 6400/60000]\n",
      "loss: 2.097304  [12800/60000]\n",
      "loss: 2.113942  [19200/60000]\n",
      "loss: 2.054028  [25600/60000]\n",
      "loss: 2.001182  [32000/60000]\n",
      "loss: 2.029241  [38400/60000]\n",
      "loss: 1.949652  [44800/60000]\n",
      "loss: 1.950255  [51200/60000]\n",
      "loss: 1.883892  [57600/60000]\n",
      "Test Error: \n",
      " Accuracy: 55.3%, Avg loss: 1.882062 \n",
      "\n",
      "Epoch 3\n",
      "-------------------------------\n",
      "loss: 1.913785  [    0/60000]\n",
      "loss: 1.886065  [ 6400/60000]\n",
      "loss: 1.771947  [12800/60000]\n",
      "loss: 1.810238  [19200/60000]\n",
      "loss: 1.692853  [25600/60000]\n",
      "loss: 1.656658  [32000/60000]\n",
      "loss: 1.670550  [38400/60000]\n",
      "loss: 1.575799  [44800/60000]\n",
      "loss: 1.595995  [51200/60000]\n",
      "loss: 1.495552  [57600/60000]\n",
      "Test Error: \n",
      " Accuracy: 59.9%, Avg loss: 1.514399 \n",
      "\n",
      "Epoch 4\n",
      "-------------------------------\n",
      "loss: 1.581565  [    0/60000]\n",
      "loss: 1.548168  [ 6400/60000]\n",
      "loss: 1.400108  [12800/60000]\n",
      "loss: 1.471288  [19200/60000]\n",
      "loss: 1.346424  [25600/60000]\n",
      "loss: 1.354202  [32000/60000]\n",
      "loss: 1.358944  [38400/60000]\n",
      "loss: 1.290029  [44800/60000]\n",
      "loss: 1.320879  [51200/60000]\n",
      "loss: 1.224977  [57600/60000]\n",
      "Test Error: \n",
      " Accuracy: 62.5%, Avg loss: 1.252545 \n",
      "\n",
      "Epoch 5\n",
      "-------------------------------\n",
      "loss: 1.330574  [    0/60000]\n",
      "loss: 1.313632  [ 6400/60000]\n",
      "loss: 1.148445  [12800/60000]\n",
      "loss: 1.254177  [19200/60000]\n",
      "loss: 1.123427  [25600/60000]\n",
      "loss: 1.158983  [32000/60000]\n",
      "loss: 1.171389  [38400/60000]\n",
      "loss: 1.114354  [44800/60000]\n",
      "loss: 1.150431  [51200/60000]\n",
      "loss: 1.068022  [57600/60000]\n",
      "Test Error: \n",
      " Accuracy: 64.4%, Avg loss: 1.090768 \n",
      "\n",
      "Done!\n"
     ]
    }
   ],
   "source": [
    "epochs = 5\n",
    "for t in range(epochs):\n",
    "    print(f\"Epoch {t+1}\\n-------------------------------\")\n",
    "    train(train_dataloader, model, loss_fn, optimizer)\n",
    "    test(test_dataloader, model, loss_fn)\n",
    "print(\"Done!\")"
   ]
  },
  {
   "cell_type": "code",
   "execution_count": 10,
   "metadata": {},
   "outputs": [
    {
     "name": "stdout",
     "output_type": "stream",
     "text": [
      "Saved PyTorch Model State to model.pth\n"
     ]
    },
    {
     "data": {
      "text/plain": [
       "<All keys matched successfully>"
      ]
     },
     "execution_count": 10,
     "metadata": {},
     "output_type": "execute_result"
    }
   ],
   "source": [
    "torch.save(model.state_dict(), \"model.pth\")\n",
    "print(\"Saved PyTorch Model State to model.pth\")\n",
    "\n",
    "model = NeuralNetwork()\n",
    "model.load_state_dict(torch.load(\"model.pth\"))"
   ]
  },
  {
   "cell_type": "code",
   "execution_count": 11,
   "metadata": {},
   "outputs": [
    {
     "name": "stdout",
     "output_type": "stream",
     "text": [
      "Predicted: \"Ankle boot\", Actual: \"Ankle boot\"\n"
     ]
    }
   ],
   "source": [
    "classes = [\n",
    "    \"T-shirt/top\",\n",
    "    \"Trouser\",\n",
    "    \"Pullover\",\n",
    "    \"Dress\",\n",
    "    \"Coat\",\n",
    "    \"Sandal\",\n",
    "    \"Shirt\",\n",
    "    \"Sneaker\",\n",
    "    \"Bag\",\n",
    "    \"Ankle boot\",\n",
    "]\n",
    "\n",
    "model.eval()\n",
    "x, y = test_data[0][0], test_data[0][1]\n",
    "with torch.no_grad():\n",
    "    pred = model(x)\n",
    "    predicted, actual = classes[pred[0].argmax(0)], classes[y]\n",
    "    print(f'Predicted: \"{predicted}\", Actual: \"{actual}\"')"
   ]
  }
 ],
 "metadata": {
  "kernelspec": {
   "display_name": "ml",
   "language": "python",
   "name": "python3"
  },
  "language_info": {
   "codemirror_mode": {
    "name": "ipython",
    "version": 3
   },
   "file_extension": ".py",
   "mimetype": "text/x-python",
   "name": "python",
   "nbconvert_exporter": "python",
   "pygments_lexer": "ipython3",
   "version": "3.7.16"
  },
  "orig_nbformat": 4,
  "vscode": {
   "interpreter": {
    "hash": "6905abc274607143ec8cd39e781a22e2a48923421564f3c463f8da8ad7a8f05f"
   }
  }
 },
 "nbformat": 4,
 "nbformat_minor": 2
}
